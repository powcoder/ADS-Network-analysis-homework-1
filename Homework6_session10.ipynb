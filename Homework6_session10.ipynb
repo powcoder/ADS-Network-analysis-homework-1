{
 "cells": [
  {
   "cell_type": "markdown",
   "metadata": {},
   "source": [
    "# ADS - Network analysis module, homework 1"
   ]
  },
  {
   "cell_type": "code",
   "execution_count": 1,
   "metadata": {
    "collapsed": false,
    "jupyter": {
     "outputs_hidden": false
    }
   },
   "outputs": [
    {
     "name": "stdout",
     "output_type": "stream",
     "text": [
      "Populating the interactive namespace from numpy and matplotlib\n"
     ]
    }
   ],
   "source": [
    "#add necessary libraries\n",
    "import networkx as nx #library supporting networks\n",
    "import matplotlib.pyplot as plt #plotting\n",
    "import pandas as pd\n",
    "import numpy as np\n",
    "import scipy.stats as stat\n",
    "#make sure plots are embedded into the notebook\n",
    "%pylab inline \n",
    "import statsmodels.formula.api as smf"
   ]
  },
  {
   "cell_type": "markdown",
   "metadata": {},
   "source": [
    "## Task 1. Analysis of Les Miserables network "
   ]
  },
  {
   "cell_type": "code",
   "execution_count": 2,
   "metadata": {
    "collapsed": true,
    "jupyter": {
     "outputs_hidden": false
    }
   },
   "outputs": [],
   "source": [
    "#uploading the classical coappearance network of characters in the novel \"Les Miserables\" to analyze\n",
    "#first download the data from https://serv.cusp.nyu.edu/files/ADS-2015/NetworkAnalysis/homework1/lesmis.gml\n",
    "G = nx.read_gml('data/lesmis.gml')"
   ]
  },
  {
   "cell_type": "markdown",
   "metadata": {},
   "source": [
    "### Q1. Visualize the network below with node labes and sizes proportional to node degree"
   ]
  },
  {
   "cell_type": "markdown",
   "metadata": {},
   "source": [
    "### Q2. Report top nodes by centrality\n",
    "Print the node labels and corresponding centrality measure for top 5 nodes in terms of\n",
    "\n",
    "a) degree centrality;\n",
    "\n",
    "b) betweenness centrality;"
   ]
  },
  {
   "cell_type": "markdown",
   "metadata": {},
   "source": [
    "### Q3. Analyze stability of Pagerank centrality\n",
    "Analyze the impact of parameter $\\alpha$ in pagerank centrality for the given network: compare top 5 nodes for different values of $\\alpha=0.95, 0.9, 0.85, 0.8, 0.7, 0.6, 0.5, 0.4, 0.3, 0.2, 0.1$ and point out an interval for which the ranking remains mostly stable."
   ]
  },
  {
   "cell_type": "markdown",
   "metadata": {},
   "source": [
    "### Task 2 (World airports). \n",
    "a) Find connected components, report their number and the sizes.  \n",
    "\n",
    "b) In the largest connected component find and report (print a list of city names and centrality scores) top 10 airports by each centrality metric (degree, betweenneass, closeness, pagerank with $alpha=0.85$). \n",
    "\n",
    "c) Find maximum and average network distance of the shortest path (number of edges, ragardless of size) between all pairs of the airports from the largest connected component. "
   ]
  },
  {
   "cell_type": "code",
   "execution_count": 3,
   "metadata": {
    "collapsed": false
   },
   "outputs": [
    {
     "data": {
      "text/html": [
       "<div>\n",
       "<style scoped>\n",
       "    .dataframe tbody tr th:only-of-type {\n",
       "        vertical-align: middle;\n",
       "    }\n",
       "\n",
       "    .dataframe tbody tr th {\n",
       "        vertical-align: top;\n",
       "    }\n",
       "\n",
       "    .dataframe thead th {\n",
       "        text-align: right;\n",
       "    }\n",
       "</style>\n",
       "<table border=\"1\" class=\"dataframe\">\n",
       "  <thead>\n",
       "    <tr style=\"text-align: right;\">\n",
       "      <th></th>\n",
       "      <th>country name</th>\n",
       "      <th>most active airport</th>\n",
       "      <th>long. most active airport</th>\n",
       "      <th>lat. most active airport</th>\n",
       "      <th>number of routes</th>\n",
       "      <th>number incoming flights</th>\n",
       "      <th>number outcoming flights</th>\n",
       "      <th>number incoming domestic flights</th>\n",
       "      <th>number outcoming domestic flights</th>\n",
       "      <th>number incoming international flights</th>\n",
       "      <th>number outcoming international flights</th>\n",
       "      <th>only domestic flights</th>\n",
       "      <th>average distance</th>\n",
       "      <th>max. distance</th>\n",
       "    </tr>\n",
       "    <tr>\n",
       "      <th>city name</th>\n",
       "      <th></th>\n",
       "      <th></th>\n",
       "      <th></th>\n",
       "      <th></th>\n",
       "      <th></th>\n",
       "      <th></th>\n",
       "      <th></th>\n",
       "      <th></th>\n",
       "      <th></th>\n",
       "      <th></th>\n",
       "      <th></th>\n",
       "      <th></th>\n",
       "      <th></th>\n",
       "      <th></th>\n",
       "    </tr>\n",
       "  </thead>\n",
       "  <tbody>\n",
       "    <tr>\n",
       "      <td>London</td>\n",
       "      <td>United Kingdom</td>\n",
       "      <td>Heathrow</td>\n",
       "      <td>-0.103</td>\n",
       "      <td>51.795</td>\n",
       "      <td>1984</td>\n",
       "      <td>993</td>\n",
       "      <td>992</td>\n",
       "      <td>57</td>\n",
       "      <td>57</td>\n",
       "      <td>936</td>\n",
       "      <td>934</td>\n",
       "      <td>0</td>\n",
       "      <td>3228</td>\n",
       "      <td>11153</td>\n",
       "    </tr>\n",
       "    <tr>\n",
       "      <td>Chicago</td>\n",
       "      <td>United States</td>\n",
       "      <td>Chicago Ohare Intl</td>\n",
       "      <td>-87.842</td>\n",
       "      <td>42.631</td>\n",
       "      <td>1406</td>\n",
       "      <td>705</td>\n",
       "      <td>702</td>\n",
       "      <td>526</td>\n",
       "      <td>523</td>\n",
       "      <td>179</td>\n",
       "      <td>178</td>\n",
       "      <td>0</td>\n",
       "      <td>2328</td>\n",
       "      <td>12416</td>\n",
       "    </tr>\n",
       "    <tr>\n",
       "      <td>Paris</td>\n",
       "      <td>France</td>\n",
       "      <td>Charles De Gaulle</td>\n",
       "      <td>2.916</td>\n",
       "      <td>49.021</td>\n",
       "      <td>1254</td>\n",
       "      <td>626</td>\n",
       "      <td>629</td>\n",
       "      <td>68</td>\n",
       "      <td>68</td>\n",
       "      <td>558</td>\n",
       "      <td>560</td>\n",
       "      <td>0</td>\n",
       "      <td>3367</td>\n",
       "      <td>11652</td>\n",
       "    </tr>\n",
       "    <tr>\n",
       "      <td>Moscow</td>\n",
       "      <td>Russia</td>\n",
       "      <td>Domododevo</td>\n",
       "      <td>38.510</td>\n",
       "      <td>55.681</td>\n",
       "      <td>1179</td>\n",
       "      <td>589</td>\n",
       "      <td>591</td>\n",
       "      <td>231</td>\n",
       "      <td>231</td>\n",
       "      <td>358</td>\n",
       "      <td>359</td>\n",
       "      <td>0</td>\n",
       "      <td>2772</td>\n",
       "      <td>10054</td>\n",
       "    </tr>\n",
       "    <tr>\n",
       "      <td>Shanghai</td>\n",
       "      <td>China</td>\n",
       "      <td>Pudong</td>\n",
       "      <td>122.342</td>\n",
       "      <td>31.238</td>\n",
       "      <td>1115</td>\n",
       "      <td>560</td>\n",
       "      <td>556</td>\n",
       "      <td>357</td>\n",
       "      <td>353</td>\n",
       "      <td>203</td>\n",
       "      <td>202</td>\n",
       "      <td>0</td>\n",
       "      <td>2235</td>\n",
       "      <td>12245</td>\n",
       "    </tr>\n",
       "  </tbody>\n",
       "</table>\n",
       "</div>"
      ],
      "text/plain": [
       "             country name most active airport  long. most active airport  \\\n",
       "city name                                                                  \n",
       "London     United Kingdom            Heathrow                     -0.103   \n",
       "Chicago     United States  Chicago Ohare Intl                    -87.842   \n",
       "Paris              France   Charles De Gaulle                      2.916   \n",
       "Moscow             Russia          Domododevo                     38.510   \n",
       "Shanghai            China              Pudong                    122.342   \n",
       "\n",
       "           lat. most active airport  number of routes  \\\n",
       "city name                                               \n",
       "London                       51.795              1984   \n",
       "Chicago                      42.631              1406   \n",
       "Paris                        49.021              1254   \n",
       "Moscow                       55.681              1179   \n",
       "Shanghai                     31.238              1115   \n",
       "\n",
       "           number incoming flights  number outcoming flights  \\\n",
       "city name                                                      \n",
       "London                         993                       992   \n",
       "Chicago                        705                       702   \n",
       "Paris                          626                       629   \n",
       "Moscow                         589                       591   \n",
       "Shanghai                       560                       556   \n",
       "\n",
       "           number incoming domestic flights  \\\n",
       "city name                                     \n",
       "London                                   57   \n",
       "Chicago                                 526   \n",
       "Paris                                    68   \n",
       "Moscow                                  231   \n",
       "Shanghai                                357   \n",
       "\n",
       "           number outcoming domestic flights  \\\n",
       "city name                                      \n",
       "London                                    57   \n",
       "Chicago                                  523   \n",
       "Paris                                     68   \n",
       "Moscow                                   231   \n",
       "Shanghai                                 353   \n",
       "\n",
       "           number incoming international flights  \\\n",
       "city name                                          \n",
       "London                                       936   \n",
       "Chicago                                      179   \n",
       "Paris                                        558   \n",
       "Moscow                                       358   \n",
       "Shanghai                                     203   \n",
       "\n",
       "           number outcoming international flights  only domestic flights  \\\n",
       "city name                                                                  \n",
       "London                                        934                      0   \n",
       "Chicago                                       178                      0   \n",
       "Paris                                         560                      0   \n",
       "Moscow                                        359                      0   \n",
       "Shanghai                                      202                      0   \n",
       "\n",
       "           average distance  max. distance  \n",
       "city name                                   \n",
       "London                 3228          11153  \n",
       "Chicago                2328          12416  \n",
       "Paris                  3367          11652  \n",
       "Moscow                 2772          10054  \n",
       "Shanghai               2235          12245  "
      ]
     },
     "execution_count": 3,
     "metadata": {},
     "output_type": "execute_result"
    }
   ],
   "source": [
    "cities = pd.read_csv( 'data/citiesTable.csv' , index_col=0 )\n",
    "cities.head()"
   ]
  },
  {
   "cell_type": "code",
   "execution_count": 4,
   "metadata": {
    "collapsed": true
   },
   "outputs": [],
   "source": [
    "#create a network with city names as nodes\n",
    "Flights=nx.Graph()\n",
    "Flights.add_nodes_from(cities.index)"
   ]
  },
  {
   "cell_type": "code",
   "execution_count": 5,
   "metadata": {
    "collapsed": false
   },
   "outputs": [
    {
     "data": {
      "text/html": [
       "<div>\n",
       "<style scoped>\n",
       "    .dataframe tbody tr th:only-of-type {\n",
       "        vertical-align: middle;\n",
       "    }\n",
       "\n",
       "    .dataframe tbody tr th {\n",
       "        vertical-align: top;\n",
       "    }\n",
       "\n",
       "    .dataframe thead th {\n",
       "        text-align: right;\n",
       "    }\n",
       "</style>\n",
       "<table border=\"1\" class=\"dataframe\">\n",
       "  <thead>\n",
       "    <tr style=\"text-align: right;\">\n",
       "      <th></th>\n",
       "      <th>departure city</th>\n",
       "      <th>long. departure (decimal)</th>\n",
       "      <th>lat. departure (decimal)</th>\n",
       "      <th>departure country</th>\n",
       "      <th>arrival city</th>\n",
       "      <th>long. departure (decimal).1</th>\n",
       "      <th>lat. departure (decimal).1</th>\n",
       "      <th>arrival country</th>\n",
       "      <th>number of routes</th>\n",
       "      <th>distance</th>\n",
       "    </tr>\n",
       "  </thead>\n",
       "  <tbody>\n",
       "    <tr>\n",
       "      <td>0</td>\n",
       "      <td>Sao Paulo</td>\n",
       "      <td>-46.116</td>\n",
       "      <td>-23.054</td>\n",
       "      <td>Brazil</td>\n",
       "      <td>Rio De Janeiro</td>\n",
       "      <td>-42.740</td>\n",
       "      <td>-22.682</td>\n",
       "      <td>Brazil</td>\n",
       "      <td>18</td>\n",
       "      <td>348</td>\n",
       "    </tr>\n",
       "    <tr>\n",
       "      <td>1</td>\n",
       "      <td>Rio De Janeiro</td>\n",
       "      <td>-42.740</td>\n",
       "      <td>-22.682</td>\n",
       "      <td>Brazil</td>\n",
       "      <td>Sao Paulo</td>\n",
       "      <td>-46.116</td>\n",
       "      <td>-23.054</td>\n",
       "      <td>Brazil</td>\n",
       "      <td>18</td>\n",
       "      <td>348</td>\n",
       "    </tr>\n",
       "    <tr>\n",
       "      <td>2</td>\n",
       "      <td>Beijing</td>\n",
       "      <td>116.974</td>\n",
       "      <td>40.133</td>\n",
       "      <td>China</td>\n",
       "      <td>Shanghai</td>\n",
       "      <td>122.342</td>\n",
       "      <td>31.238</td>\n",
       "      <td>China</td>\n",
       "      <td>18</td>\n",
       "      <td>1100</td>\n",
       "    </tr>\n",
       "    <tr>\n",
       "      <td>3</td>\n",
       "      <td>Johannesburg</td>\n",
       "      <td>28.410</td>\n",
       "      <td>-25.566</td>\n",
       "      <td>South Africa</td>\n",
       "      <td>Cape Town</td>\n",
       "      <td>19.002</td>\n",
       "      <td>-33.942</td>\n",
       "      <td>South Africa</td>\n",
       "      <td>16</td>\n",
       "      <td>1299</td>\n",
       "    </tr>\n",
       "    <tr>\n",
       "      <td>4</td>\n",
       "      <td>Honolulu</td>\n",
       "      <td>-157.871</td>\n",
       "      <td>21.531</td>\n",
       "      <td>United States</td>\n",
       "      <td>Tokyo</td>\n",
       "      <td>140.643</td>\n",
       "      <td>36.274</td>\n",
       "      <td>Japan</td>\n",
       "      <td>16</td>\n",
       "      <td>6103</td>\n",
       "    </tr>\n",
       "  </tbody>\n",
       "</table>\n",
       "</div>"
      ],
      "text/plain": [
       "   departure city  long. departure (decimal)  lat. departure (decimal)  \\\n",
       "0       Sao Paulo                    -46.116                   -23.054   \n",
       "1  Rio De Janeiro                    -42.740                   -22.682   \n",
       "2         Beijing                    116.974                    40.133   \n",
       "3    Johannesburg                     28.410                   -25.566   \n",
       "4        Honolulu                   -157.871                    21.531   \n",
       "\n",
       "  departure country    arrival city  long. departure (decimal).1  \\\n",
       "0            Brazil  Rio De Janeiro                      -42.740   \n",
       "1            Brazil       Sao Paulo                      -46.116   \n",
       "2             China        Shanghai                      122.342   \n",
       "3      South Africa       Cape Town                       19.002   \n",
       "4     United States           Tokyo                      140.643   \n",
       "\n",
       "   lat. departure (decimal).1 arrival country  number of routes  distance  \n",
       "0                     -22.682          Brazil                18       348  \n",
       "1                     -23.054          Brazil                18       348  \n",
       "2                      31.238           China                18      1100  \n",
       "3                     -33.942    South Africa                16      1299  \n",
       "4                      36.274           Japan                16      6103  "
      ]
     },
     "execution_count": 5,
     "metadata": {},
     "output_type": "execute_result"
    }
   ],
   "source": [
    "#now read the links\n",
    "links = pd.read_csv( 'data/citiesToCities.csv' , index_col=None )\n",
    "links.head()"
   ]
  },
  {
   "cell_type": "code",
   "execution_count": 6,
   "metadata": {
    "collapsed": true
   },
   "outputs": [],
   "source": [
    "#create list of edges as tuples\n",
    "EN=len(links.index)\n",
    "edgelist=[(links['departure city'][j],links['arrival city'][j]) for j in range(EN)]"
   ]
  },
  {
   "cell_type": "code",
   "execution_count": 7,
   "metadata": {
    "collapsed": true
   },
   "outputs": [],
   "source": [
    "#add edges to the network\n",
    "Flights.add_edges_from(edgelist)"
   ]
  },
  {
   "cell_type": "code",
   "execution_count": null,
   "metadata": {
    "collapsed": true
   },
   "outputs": [],
   "source": []
  }
 ],
 "metadata": {
  "kernelspec": {
   "display_name": "Python 3",
   "language": "python",
   "name": "python3"
  },
  "language_info": {
   "codemirror_mode": {
    "name": "ipython",
    "version": 3
   },
   "file_extension": ".py",
   "mimetype": "text/x-python",
   "name": "python",
   "nbconvert_exporter": "python",
   "pygments_lexer": "ipython3",
   "version": "3.5.5"
  }
 },
 "nbformat": 4,
 "nbformat_minor": 4
}
